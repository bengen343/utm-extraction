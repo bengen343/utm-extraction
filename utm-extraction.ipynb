{
 "cells": [
  {
   "cell_type": "code",
   "execution_count": null,
   "metadata": {},
   "outputs": [],
   "source": [
    "import numpy as np\n",
    "import pandas as pd\n",
    "\n",
    "from urllib.parse import urlparse, parse_qs"
   ]
  },
  {
   "cell_type": "code",
   "execution_count": null,
   "metadata": {},
   "outputs": [],
   "source": [
    "# Set variables\n",
    "# Though a wee bit improper I'm  defining this outside the function in the event I later pull variables out\n",
    "# into a seperate config file\n",
    "_channel_dict = {\n",
    "    'crm': 'Offline',\n",
    "    'email': 'Email',\n",
    "    'facebook': 'Paid Social',\n",
    "    'fbap': 'Paid Social',\n",
    "    'google': 'Organic Search',\n",
    "    'googlesearch': 'Paid Search',\n",
    "    'hs_automation': 'Email',\n",
    "    'hs_email': 'Email',\n",
    "    'instagram': 'Organic Social',\n",
    "    'linkedin': 'Organic Social',\n",
    "    'linktree': 'Paid Social',\n",
    "    'referral': 'Referral',\n",
    "    'twitter': 'Organic Social',\n",
    "    'youtube': 'Referral',\n",
    "    'Unknown': 'Direct',\n",
    "    'undefined': 'Direct'\n",
    "}"
   ]
  },
  {
   "cell_type": "code",
   "execution_count": null,
   "metadata": {},
   "outputs": [],
   "source": []
  },
  {
   "cell_type": "code",
   "execution_count": null,
   "metadata": {},
   "outputs": [],
   "source": []
  },
  {
   "cell_type": "code",
   "execution_count": null,
   "metadata": {},
   "outputs": [],
   "source": []
  },
  {
   "cell_type": "code",
   "execution_count": null,
   "metadata": {},
   "outputs": [],
   "source": [
    "def extract_utms(_df, _column=str):\n",
    "    _utm_list = ['utm_campaign', 'utm_source', 'utm_medium', 'utm_term', 'utm_content']\n",
    "    global _channel_dict\n",
    "    i = 0\n",
    "    _df = _df.fillna('')\n",
    "\n",
    "    for _url in _df[_column]:\n",
    "        _parsed_url = urlparse(_url)\n",
    "        _queries_dict = parse_qs(_parsed_url.query)\n",
    "        \n",
    "        for _utm in _utm_list:\n",
    "            _value = _queries_dict.get(_utm)\n",
    "            if _value != None:\n",
    "                _a, *_b = _value\n",
    "                _df.loc[i, _utm] = _a\n",
    "            else:\n",
    "                _a = 'Unknown'\n",
    "                _df.loc[i, _utm] = _a\n",
    "        \n",
    "        i += 1\n",
    "        \n",
    "    _df['Original Channel'] = _df['utm_source'].apply(lambda x: _channel_dict.get(x))\n",
    "    _df['Original Channel'] = np.where((_df['utm_medium'].str.contains('organic')) & (_df['utm_source'] == 'facebook'), \n",
    "                                       'Organic Social', \n",
    "                                       _df['Original Channel'])\n",
    "        \n",
    "    return _df"
   ]
  },
  {
   "cell_type": "code",
   "execution_count": null,
   "metadata": {},
   "outputs": [],
   "source": [
    "origins_df = pd.read_csv(r'sales-lead-source.csv', error_bad_lines=False)"
   ]
  },
  {
   "cell_type": "code",
   "execution_count": null,
   "metadata": {},
   "outputs": [],
   "source": [
    "origins_df"
   ]
  },
  {
   "cell_type": "code",
   "execution_count": null,
   "metadata": {},
   "outputs": [],
   "source": [
    "sourced_df = extract_utms(origins_df, 'First Page Seen')"
   ]
  },
  {
   "cell_type": "code",
   "execution_count": null,
   "metadata": {},
   "outputs": [],
   "source": [
    "sourced_df"
   ]
  },
  {
   "cell_type": "code",
   "execution_count": null,
   "metadata": {},
   "outputs": [],
   "source": [
    "sourced_df.groupby('utm_source').count().sort_values('Contact ID', ascending=False)[:20]"
   ]
  },
  {
   "cell_type": "code",
   "execution_count": null,
   "metadata": {},
   "outputs": [],
   "source": [
    "sourced_df['Create Date'] = sourced_df['Create Date'].apply(lambda x: pd.to_datetime(x).date())"
   ]
  },
  {
   "cell_type": "code",
   "execution_count": null,
   "metadata": {},
   "outputs": [],
   "source": [
    "pd.crosstab(sourced_df['Create Date'], sourced_df['utm_source']).to_csv(r'sales-lead-source.csv')"
   ]
  },
  {
   "cell_type": "code",
   "execution_count": null,
   "metadata": {},
   "outputs": [],
   "source": []
  }
 ],
 "metadata": {
  "kernelspec": {
   "display_name": "Python 3",
   "language": "python",
   "name": "python3"
  },
  "language_info": {
   "codemirror_mode": {
    "name": "ipython",
    "version": 3
   },
   "file_extension": ".py",
   "mimetype": "text/x-python",
   "name": "python",
   "nbconvert_exporter": "python",
   "pygments_lexer": "ipython3",
   "version": "3.8.3"
  }
 },
 "nbformat": 4,
 "nbformat_minor": 4
}
